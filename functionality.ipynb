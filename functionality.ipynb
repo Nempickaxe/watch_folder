{
 "cells": [
  {
   "cell_type": "code",
   "execution_count": 116,
   "metadata": {},
   "outputs": [],
   "source": [
    "import os, shutil, time, dateparser, datetime"
   ]
  },
  {
   "cell_type": "code",
   "execution_count": 117,
   "metadata": {},
   "outputs": [],
   "source": [
    "def get_time_accessed(path):\n",
    "    return (time.time() - os.path.getatime(path))"
   ]
  },
  {
   "cell_type": "code",
   "execution_count": 163,
   "metadata": {},
   "outputs": [],
   "source": [
    "def write_log(path, log_file):\n",
    "    with open(log_file, 'a') as file:\n",
    "        file_path_list = ['deleted file:\\t', path, '\\t|date deleted\\t', datetime.datetime.now().strftime(\"%m/%d/%Y, %H:%M:%S\"), '\\n']\n",
    "        file.write(''.join(file_path_list))"
   ]
  },
  {
   "cell_type": "code",
   "execution_count": 164,
   "metadata": {},
   "outputs": [],
   "source": [
    "def delete_file(path, log_file):\n",
    "    os.remove(path)\n",
    "    write_log(path, log_file)"
   ]
  },
  {
   "cell_type": "code",
   "execution_count": 165,
   "metadata": {},
   "outputs": [],
   "source": [
    "def delete_non_empty_folder(path, log_file):\n",
    "    shutil.rmtree(path, ignore_errors=True)\n",
    "    write_log(path, log_file)"
   ]
  },
  {
   "cell_type": "code",
   "execution_count": 166,
   "metadata": {},
   "outputs": [],
   "source": [
    "def delete_empty_folder(path, log_file):\n",
    "    os.rmdir(path)\n",
    "    write_log(path, log_file)"
   ]
  },
  {
   "cell_type": "code",
   "execution_count": 167,
   "metadata": {},
   "outputs": [],
   "source": [
    "def check_file_if_collection(path):\n",
    "    end_extensions = ['.parquet']\n",
    "    for item in end_extensions:\n",
    "        if path.endswith(item):\n",
    "            return True\n",
    "    return False"
   ]
  },
  {
   "cell_type": "code",
   "execution_count": 168,
   "metadata": {},
   "outputs": [],
   "source": [
    "def get_any_file(path):\n",
    "    return os.path.join(path, os.listdir(path)[0]) "
   ]
  },
  {
   "cell_type": "code",
   "execution_count": 169,
   "metadata": {},
   "outputs": [],
   "source": [
    "def master_delete(folder_path, time_threshold, log_file, check_if_master_empty=False):\n",
    "    ''' takes input master directory and time in epochs'''\n",
    "    first_dir_exist = True\n",
    "    #if master folder exist\n",
    "    while first_dir_exist:\n",
    "        if not os.path.isdir(folder_path):\n",
    "            print(folder_path, 'not a directory')\n",
    "            return None\n",
    "        else:\n",
    "            first_dir_exist=False\n",
    "    #delete folder if empty(optional)\n",
    "    if check_if_master_empty:\n",
    "        if (os.path.isdir(folder_path)):\n",
    "            if os.listdir(folder_path)==[]:\n",
    "                delete_empty_folder(folder_path, log_file)\n",
    "                print('deleted empty folder', folder_path)\n",
    "    for item in os.listdir(folder_path):\n",
    "        item_path = os.path.join(folder_path, item)\n",
    "        #if path is a file\n",
    "        if (os.path.isfile(item_path)):\n",
    "            if get_time_accessed(item_path)>=time_threshold:\n",
    "                delete_file(item_path, log_file)\n",
    "                print('deleted file: ', item_path)\n",
    "        #if path is of type parquet\n",
    "        elif check_file_if_collection(item_path):\n",
    "                sample_file = get_any_file(item_path)\n",
    "                if get_time_accessed(sample_file)>=time_threshold:\n",
    "                    delete_non_empty_folder(item_path, log_file)\n",
    "                    print('deleted collection type: ', item_path)\n",
    "        #if empty directory\n",
    "        elif os.listdir(item_path)==[]:\n",
    "            delete_empty_folder(item_path, log_file)\n",
    "            print('deleted empty folder', item_path)\n",
    "        #if folder then recurssion\n",
    "        else:\n",
    "            master_delete(item_path, time_threshold, log_file, check_if_master_empty=True)"
   ]
  },
  {
   "cell_type": "code",
   "execution_count": 170,
   "metadata": {},
   "outputs": [],
   "source": [
    "def get_epoch(x):\n",
    "    return dateparser.parse(x).timestamp()"
   ]
  },
  {
   "cell_type": "code",
   "execution_count": 171,
   "metadata": {},
   "outputs": [],
   "source": [
    "def watch_folders(folders_info, log_file):\n",
    "    '''absolute paths of folders and natural language threshold'''\n",
    "    with open(folders_info) as file:\n",
    "        folder_threshold = file.readlines()[1:]\n",
    "        for item in folder_threshold:\n",
    "            folder, threshold = [i.strip() for i in (item.strip()).split(',')]\n",
    "            print('WATCHING:\\t', folder, '\\nSET THRESHOLD:\\t', threshold)\n",
    "            #get epoch equivalent\n",
    "            threshold = time.time()-get_epoch(threshold)\n",
    "            master_delete(folder, threshold, log_file)"
   ]
  },
  {
   "cell_type": "code",
   "execution_count": 54,
   "metadata": {},
   "outputs": [
    {
     "name": "stdout",
     "output_type": "stream",
     "text": [
      "deleted empty folder\n",
      "deleted file:  test_files/new/untitled.txt\n",
      "deleted file:  test_files/new/untitled1.txt\n",
      "deleted file:  test_files/new/.ipynb_checkpoints/untitled1-checkpoint.txt\n",
      "deleted file:  test_files/new/.ipynb_checkpoints/untitled-checkpoint.txt\n",
      "deleted file:  test_files/new/new_2/untitled.txt\n",
      "deleted file:  test_files/new/new_2/untitled1.txt\n",
      "deleted file:  test_files/new/new_2/.ipynb_checkpoints/untitled1-checkpoint.txt\n",
      "deleted file:  test_files/new/new_2/.ipynb_checkpoints/untitled-checkpoint.txt\n"
     ]
    }
   ],
   "source": [
    "if __name__=='__main__':\n",
    "    master_delete('test_files', 1500)"
   ]
  },
  {
   "cell_type": "code",
   "execution_count": 172,
   "metadata": {},
   "outputs": [
    {
     "name": "stdout",
     "output_type": "stream",
     "text": [
      "WATCHING:\t test_files \n",
      "SET THRESHOLD:\t 3 min\n",
      "deleted empty folder test_files/.ipynb_checkpoints\n",
      "WATCHING:\t test_files_1 \n",
      "SET THRESHOLD:\t 10 min\n",
      "deleted empty folder test_files_1/hcgfc\n",
      "deleted file:  test_files_1/untitled.txt\n",
      "deleted file:  test_files_1/.ipynb_checkpoints/untitled-checkpoint.txt\n",
      "WATCHING:\t test_not_folder \n",
      "SET THRESHOLD:\t 2 min\n",
      "test_not_folder not a directory\n"
     ]
    }
   ],
   "source": [
    "if __name__=='__main__':\n",
    "    watch_folders('threshold_master.csv', 'logfile.txt')"
   ]
  },
  {
   "cell_type": "code",
   "execution_count": 173,
   "metadata": {},
   "outputs": [
    {
     "name": "stdout",
     "output_type": "stream",
     "text": [
      "[NbConvertApp] Converting notebook functionality.ipynb to script\n",
      "[NbConvertApp] Writing 3611 bytes to functionality.py\n"
     ]
    }
   ],
   "source": [
    "!jupyter nbconvert --to script *.ipynb"
   ]
  }
 ],
 "metadata": {
  "kernelspec": {
   "display_name": "Python 3",
   "language": "python",
   "name": "python3"
  },
  "language_info": {
   "codemirror_mode": {
    "name": "ipython",
    "version": 3
   },
   "file_extension": ".py",
   "mimetype": "text/x-python",
   "name": "python",
   "nbconvert_exporter": "python",
   "pygments_lexer": "ipython3",
   "version": "3.7.3"
  }
 },
 "nbformat": 4,
 "nbformat_minor": 4
}
